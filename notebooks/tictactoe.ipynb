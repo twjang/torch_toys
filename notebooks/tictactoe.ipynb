{
 "cells": [
  {
   "cell_type": "code",
   "execution_count": 1,
   "metadata": {},
   "outputs": [],
   "source": [
    "import math\n",
    "import torch\n",
    "from torch import nn\n",
    "from tqdm.notebook import tqdm\n",
    "from torch_toys.data_gen import MNKTicTacToe\n",
    "\n",
    "\n",
    "## Configurations\n",
    "BOARD_WIDTH=15\n",
    "BOARD_HEIGHT=15\n",
    "WIN_LENGTH=5\n",
    "FREQ = 8\n",
    "NUM_STEPS = 10000\n",
    "\n",
    "\n",
    "gen = MNKTicTacToe(BOARD_HEIGHT, BOARD_WIDTH, WIN_LENGTH)"
   ]
  },
  {
   "cell_type": "code",
   "execution_count": 21,
   "metadata": {},
   "outputs": [],
   "source": [
    "def generate_batch(batchsz: int):\n",
    "    global gen\n",
    "    boards = []\n",
    "    winners = []\n",
    "    nexts = []\n",
    "    for i in range(batchsz):\n",
    "        s = gen.generate()\n",
    "        boards.append(gen.board_to_tensor(s).unsqueeze(0))\n",
    "        nexts.append(gen.next_to_tensor(s))\n",
    "        winners.append(gen.winner_to_tensor(s))\n",
    "    \n",
    "    boards = torch.cat(boards, 0)\n",
    "    winners = torch.cat(winners, 0)\n",
    "    nexts = torch.cat(nexts, 0)\n",
    "    return boards, winners, nexts\n",
    "\n",
    "\n",
    "def generate_pos_encode(d:int)->torch.Tensor:\n",
    "    global gen\n",
    "    pos_r, pos_c = gen.board_pos_to_tensor()\n",
    "    res = []\n",
    "    for freq in range(d):\n",
    "        w = (freq + 1) * math.pi\n",
    "        res.append(torch.cos(pos_r * w).unsqueeze(0))\n",
    "        res.append(torch.cos(pos_c * w).unsqueeze(0))\n",
    "        res.append(torch.sin(pos_r * w).unsqueeze(0))\n",
    "        res.append(torch.sin(pos_c * w).unsqueeze(0))\n",
    "    return torch.cat(res, 0).unsqueeze(0)\n",
    "\n",
    "class TicTacToeNet(nn.Module):\n",
    "    def __init__(self, dim_embed:int, num_heads:int=8, num_layers:int=3, use_dropout:bool=False, use_stochastic_depth:bool=False):\n",
    "        super().__init__()\n",
    "        self.dim_embed = dim_embed\n",
    "        self.num_heads = num_heads\n",
    "        self.num_layers = num_layers\n",
    "        self.use_dropout = use_dropout\n",
    "        self.use_stochastic_depth = use_stochastic_depth\n",
    "\n",
    "        self.token_embed = nn.Embedding(2, dim_embed)\n",
    "        self.mark_embed = nn.Embedding(3, dim_embed)\n",
    "        self.lst_msa = nn.ModuleList()\n",
    "\n",
    "        for _ in range(self.num_layers):\n",
    "            self.lst_msa.append(nn.MultiheadAttention(self.dim_embed, self.num_heads,use_dropout)\n",
    "\n",
    "\n",
    "\n",
    "\n",
    "    net = \n",
    "pos_enc = generate_pos_encode(FREQ)"
   ]
  },
  {
   "cell_type": "code",
   "execution_count": 8,
   "metadata": {},
   "outputs": [
    {
     "data": {
      "text/plain": [
       "(tensor([[0, 0, 0,  ..., 2, 2, 0],\n",
       "         [0, 1, 0,  ..., 0, 2, 0],\n",
       "         [1, 1, 0,  ..., 2, 0, 0],\n",
       "         ...,\n",
       "         [0, 1, 0,  ..., 1, 0, 1],\n",
       "         [0, 1, 0,  ..., 0, 0, 0],\n",
       "         [0, 2, 0,  ..., 0, 0, 0]]),\n",
       " tensor([0, 1, 2, 0, 0, 0, 1, 1, 1, 0]),\n",
       " tensor([1, 2, 1, 2, 2, 2, 2, 2, 2, 2]))"
      ]
     },
     "execution_count": 8,
     "metadata": {},
     "output_type": "execute_result"
    }
   ],
   "source": [
    "for stepidx in range(NUM_STEPS):\n",
    "\n",
    "    generate_batch(10)"
   ]
  }
 ],
 "metadata": {
  "interpreter": {
   "hash": "799c44995b6893a3198746e929695af97a5164f3207f34fc29cf6ff3bf46bd54"
  },
  "kernelspec": {
   "display_name": "Python 3.8.12 64-bit ('dl': conda)",
   "language": "python",
   "name": "python3"
  },
  "language_info": {
   "codemirror_mode": {
    "name": "ipython",
    "version": 3
   },
   "file_extension": ".py",
   "mimetype": "text/x-python",
   "name": "python",
   "nbconvert_exporter": "python",
   "pygments_lexer": "ipython3",
   "version": "3.8.12"
  },
  "orig_nbformat": 4
 },
 "nbformat": 4,
 "nbformat_minor": 2
}
